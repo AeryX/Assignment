{
 "cells": [
  {
   "cell_type": "code",
   "execution_count": 3,
   "metadata": {},
   "outputs": [
    {
     "name": "stdout",
     "output_type": "stream",
     "text": [
      "input number for factorial : 5\n",
      "the factorial of your number is :  120\n"
     ]
    }
   ],
   "source": [
    "def factorial(num):\n",
    "    if num == 0:\n",
    "        return 1\n",
    "    else:\n",
    "        return num * factorial(num-1)\n",
    "num=int(input(\"input number for factorial : \"))\n",
    "print(\"the factorial of your number is : \",factorial(num))"
   ]
  },
  {
   "cell_type": "code",
   "execution_count": 4,
   "metadata": {},
   "outputs": [
    {
     "name": "stdout",
     "output_type": "stream",
     "text": [
      "String is :  You Are BrilliaT TeaCheR\n",
      "No of Upper case characters :  7\n",
      "No of Lower case Characters :  14\n"
     ]
    }
   ],
   "source": [
    "def test_string(str):\n",
    "    A={\"UPPER_CASE\":0, \"LOWER_CASE\":0}\n",
    "    for c in str:\n",
    "        if c.isupper():\n",
    "           A[\"UPPER_CASE\"]+=1\n",
    "        elif c.islower():\n",
    "           A[\"LOWER_CASE\"]+=1\n",
    "        else:\n",
    "           pass\n",
    "    print (\"String is : \", str)\n",
    "    print (\"No of Upper case characters : \", A[\"UPPER_CASE\"])\n",
    "    print (\"No of Lower case Characters : \", A[\"LOWER_CASE\"])\n",
    "\n",
    "test_string('You Are BrilliaT TeaCheR')"
   ]
  },
  {
   "cell_type": "code",
   "execution_count": 5,
   "metadata": {},
   "outputs": [
    {
     "name": "stdout",
     "output_type": "stream",
     "text": [
      " Even number in a list is 10\n",
      "  Even number in a list is 44\n",
      "  Even number in a list is 42\n",
      "  Even number in a list is 26\n",
      " "
     ]
    }
   ],
   "source": [
    "list1 = [10, 44, 42, 55, 26, 77] \n",
    "  \n",
    "for num in list1: \n",
    "    if num % 2 == 0:\n",
    "       print(\" Even number in a list is\", num, end = \"\\n \") "
   ]
  },
  {
   "cell_type": "code",
   "execution_count": 6,
   "metadata": {},
   "outputs": [
    {
     "name": "stdout",
     "output_type": "stream",
     "text": [
      "True\n"
     ]
    }
   ],
   "source": [
    "def asPalindrome(string):\n",
    "    left_position = 0\n",
    "    right_position = len(string) - 1\n",
    "    \n",
    "    while right_position >= left_position:\n",
    "        if not string[left_position] == string[right_position]:\n",
    "            return False\n",
    "        left_position += 1\n",
    "        right_position -= 1\n",
    "        return True\n",
    "print (asPalindrome('level'))"
   ]
  },
  {
   "cell_type": "code",
   "execution_count": 7,
   "metadata": {},
   "outputs": [
    {
     "name": "stdout",
     "output_type": "stream",
     "text": [
      "give a number : 8\n",
      "\n",
      "given number is not prime number\n"
     ]
    }
   ],
   "source": [
    "def prime(num):\n",
    "    i = 2\n",
    "    while i < num:\n",
    "        if num % i == 0:\n",
    "            print(\"\\ngiven number is not prime number\")\n",
    "            break\n",
    "        i+=1\n",
    "        if i == (num-1):\n",
    "            print(\"\\ngiven number is prime number\")\n",
    "num=int(input(\"give a number : \"))\n",
    "prime(num)"
   ]
  },
  {
   "cell_type": "code",
   "execution_count": 8,
   "metadata": {},
   "outputs": [
    {
     "name": "stdout",
     "output_type": "stream",
     "text": [
      "You have purchase these thing in list :\n",
      "fastfood\n",
      "vegetables\n",
      "perfume\n",
      "drinks\n",
      "guitar\n"
     ]
    }
   ],
   "source": [
    "def thing(*things):\n",
    "    print(\"You have purchase these thing in list :\")\n",
    "    for thing in things:\n",
    "        print(thing)\n",
    "\n",
    "thing(\"fastfood\",\"vegetables\",\"perfume\",\"drinks\",\"guitar\")"
   ]
  },
  {
   "cell_type": "code",
   "execution_count": null,
   "metadata": {},
   "outputs": [],
   "source": []
  }
 ],
 "metadata": {
  "kernelspec": {
   "display_name": "Python 3",
   "language": "python",
   "name": "python3"
  },
  "language_info": {
   "codemirror_mode": {
    "name": "ipython",
    "version": 3
   },
   "file_extension": ".py",
   "mimetype": "text/x-python",
   "name": "python",
   "nbconvert_exporter": "python",
   "pygments_lexer": "ipython3",
   "version": "3.7.3"
  }
 },
 "nbformat": 4,
 "nbformat_minor": 2
}
